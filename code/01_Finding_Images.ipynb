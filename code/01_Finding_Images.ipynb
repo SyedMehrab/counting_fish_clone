{
 "cells": [
  {
   "cell_type": "markdown",
   "metadata": {},
   "source": [
    "# 01_Finding_Images\n",
    "\n",
    "**Purpose of this notebook:**   \n",
    "Search for and download images for research on counting fish.\n",
    "\n",
    "https://github.com/googleapis/google-api-python-client\n",
    "\n",
    "Google provides a python library that assists with image search and download; it requires an API key and limits downloads to 100 per day.\n",
    "\n",
    "**Example code**    \n",
    "https://www.geeksforgeeks.org/how-to-download-google-images-using-python/    \n",
    "https://stackoverflow.com/questions/53052322/retrieve-image-url-from-google-images-download-results-in-python/58457541#58457541\n",
    "\n",
    "Unfortunately, this approach appears to be broken at the moment and there is active work. \n",
    "\n",
    "**Link to issue reports**    \n",
    "https://stackoverflow.com/questions/60370799/google-image-download-with-python-cannot-download-images\n",
    "https://medium.com/@yfujiki/googleimagesdownload-is-dead-long-live-bingimagesdownload-fb9f5d3b4296\n",
    "\n",
    "**Alternative Solutions**\n",
    "1. Google API - limit 100 photos per day, need to get an API key\n",
    "2. Bing search - not explored\n",
    "3. The Chrome extention \"Image Downloader\" can be used with a Google search to download images. This solved the issue and I did not pursue any of these other alternatives."
   ]
  },
  {
   "cell_type": "markdown",
   "metadata": {},
   "source": [
    "## Google images"
   ]
  },
  {
   "cell_type": "code",
   "execution_count": 20,
   "metadata": {},
   "outputs": [],
   "source": [
    "# importing google_images_download module \n",
    "from google_images_download import google_images_download  "
   ]
  },
  {
   "cell_type": "code",
   "execution_count": 21,
   "metadata": {},
   "outputs": [
    {
     "name": "stdout",
     "output_type": "stream",
     "text": [
      "\n",
      "Item no.: 1 --> Item name = fish ladder\n",
      "Evaluating...\n",
      "Starting Download...\n",
      "\n",
      "\n",
      "Unfortunately all 3 could not be downloaded because some images were not downloadable. 0 is all we got for this search filter!\n",
      "\n",
      "Errors: 0\n",
      "\n"
     ]
    }
   ],
   "source": [
    "arguments = {\n",
    "    \"keywords\": \"fish ladder\",\n",
    "    \"limit\": 3,\n",
    "    \"print_urls\": True\n",
    "   # \"size\": \"large\"\n",
    "}\n",
    "paths = response.download(arguments)"
   ]
  },
  {
   "cell_type": "markdown",
   "metadata": {},
   "source": [
    "## Bing images"
   ]
  },
  {
   "cell_type": "code",
   "execution_count": null,
   "metadata": {},
   "outputs": [],
   "source": [
    "# Several packages exist to facilitate image download, but a quick check with the bing search\n",
    "#   engine indicates that there aren't any additional images to find. Opted not to automate\n",
    "#   a search using bing."
   ]
  }
 ],
 "metadata": {
  "kernelspec": {
   "display_name": "Python 3",
   "language": "python",
   "name": "python3"
  },
  "language_info": {
   "codemirror_mode": {
    "name": "ipython",
    "version": 3
   },
   "file_extension": ".py",
   "mimetype": "text/x-python",
   "name": "python",
   "nbconvert_exporter": "python",
   "pygments_lexer": "ipython3",
   "version": "3.7.7"
  }
 },
 "nbformat": 4,
 "nbformat_minor": 4
}
