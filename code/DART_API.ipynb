{
 "cells": [
  {
   "cell_type": "markdown",
   "metadata": {},
   "source": [
    "# DART_API\n",
    "\n",
    "The Columbia Basin Research website belonging to the University of Washington School of Aquatic & Fishery Sciences provides access to a variety of datasets pertaining to the Columbia River.\n",
    "\n",
    "The Data Access in Real Time (DART) project has several pages set up to make queries. Although there does not appear to be an API, one of the pages http://www.cbr.washington.edu/dart/query/adult_graph_text will create the URL to download data in csv format.\n",
    "\n",
    "This notebook builds a simple API-like interface to download data for this project.\n",
    "\n",
    " - [Dissecting the URL](#Dissecting-the-URL)\n",
    " - [Notebook setup](#Notebook-setup)\n",
    " - [Downloading data](#Downloading-data)"
   ]
  },
  {
   "cell_type": "markdown",
   "metadata": {},
   "source": [
    "## Dissecting the URL\n",
    "\n",
    "\n",
    "Sockeye daily counts for all locations (Columns) for all days of the year (rows) for 2019\n",
    "\n",
    "This query selected\n",
    " - Output format: CSV\n",
    " - Year: 2019\n",
    " - Project: BON, JDA, MCN, PRD, RIS, RRH, TDA, WAN, WEL\n",
    " - Species: Sockeye\n",
    " - 10 Year: No Selection\n",
    " - River Data: No Selection\n",
    "\n",
    "Note: spaces and newlines inserted for readability\n",
    "http: //www. cbr .washington. edu/dart/cs/php/rpt/mg.php?sc=1&mgconfig=adult\n",
    "\n",
    "    &outputFormat=csv    # csv - locations in columns, csvSingle = single data point per row\n",
    "    &year%5B%5D=2019    \n",
    "    \n",
    "    &loc%5B%5D=BON&loc%5B%5D=JDA&loc%5B%5D=MCN    \n",
    "    &loc%5B%5D=PRD&loc%5B%5D=RIS&loc%5B%5D=RRH    \n",
    "    &loc%5B%5D=TDA&loc%5B%5D=WAN&loc%5B%5D=WEL    \n",
    "    \n",
    "    &ftype%5B%5D=fb     \n",
    "    &data%5B%5D=   \n",
    "    &data%5B%5D=\n",
    "    &startdate=1%2F1\n",
    "    &enddate=12%2F31\n",
    "    &avgyear=0\n",
    "    &sumAttribute=none\n",
    "    &consolidate=1\n",
    "    &zeros=1\n",
    "    &grid=1\n",
    "    &y1min=0\n",
    "    &y1max=\n",
    "    &y2min=\n",
    "    &y2max=\n",
    "    &size=medium"
   ]
  },
  {
   "cell_type": "code",
   "execution_count": 1,
   "metadata": {},
   "outputs": [],
   "source": [
    "# Example: 2018, 3 species, all 9 locations\n",
    "#\n",
    "# http://www.cbr.washington.edu/dart/cs/php/rpt/mg.php?sc=1&mgconfig=adult&outputFormat=csvSingle\n",
    "#    &year%5B%5D=2018&loc%5B%5D=BON&loc%5B%5D=JDA&loc%5B%5D=MCN&loc%5B%5D=PRD&loc%5B%5D=RIS&loc%5B%5D=RRH\n",
    "#    &loc%5B%5D=TDA&loc%5B%5D=WAN&loc%5B%5D=WEL\n",
    "\n",
    "#    &ftype%5B%5D=fc&ftype%5B%5D=fk&ftype%5B%5D=fb&ftype%5B%5D=fp\n",
    "\n",
    "#    &data%5B%5D=&data%5B%5D=&startdate=1%2F1&enddate=12%2F31&avgyear=0&sumAttribute=none&consolidate=1&zeros=1&grid=1&y1min=0&y1max=&y2min=&y2max=&size=medium"
   ]
  },
  {
   "cell_type": "markdown",
   "metadata": {},
   "source": [
    "## Notebook setup"
   ]
  },
  {
   "cell_type": "code",
   "execution_count": 2,
   "metadata": {},
   "outputs": [],
   "source": [
    "import requests\n",
    "import csv\n",
    "\n",
    "import numpy as np\n",
    "import pandas as pd"
   ]
  },
  {
   "cell_type": "code",
   "execution_count": 3,
   "metadata": {},
   "outputs": [],
   "source": [
    "# global variables\n",
    "\n",
    "# DART codes for fish species\n",
    "species_dict = {'sockeye':'fb',\n",
    "                'chinook':'fc',\n",
    "                'coho':'fk',\n",
    "                'chum':'fe',\n",
    "                'pink':'fp'}\n",
    "# DART codes for river data -- only the codes used here\n",
    "river_data_dict = {\n",
    "    'Barometric Pressure':'Barometric+Pressure',\n",
    "    'Dissolved Gas':'Dissolved+Gas',\n",
    "    'Dissolved Gas Percent':'Dissolved+Gas+Percent',\n",
    "    'Elevation':'Elevation',    \n",
    "    'Inflow': 'Inflow',\n",
    "    'Outflow':'Outflow',\n",
    "    'Spill':'Spill',\n",
    "    'Spill Percent':'Spill+Percent', \n",
    "    'Temperature (Scroll Case)':'Temp+%28Scroll+Case%29',\n",
    "    'Temperature (WQM)':'Temp+%28WQM%29',\n",
    "    'Turbidity':'Turbidity'\n",
    "}\n",
    "\n",
    "# Location codes for 9 sites on the Columbia river in Washington State\n",
    "location_list = ['BON','JDA','MCN','PRD','RIS','RRH','TDA','WAN','WEL']"
   ]
  },
  {
   "cell_type": "code",
   "execution_count": 4,
   "metadata": {},
   "outputs": [],
   "source": [
    "def construct_query(year,species_list,location_list,riverdata_list,single=True):\n",
    "    '''Construct a query for a particular year and species of fish. All other options are hard coded.'''\n",
    "    \n",
    "    q_base   = 'http://www.cbr.washington.edu/dart/cs/php/rpt/mg.php?sc=1&mgconfig=adult'\n",
    "    \n",
    "    # single is single observation per row, as in tidy data. otherwise, wide format\n",
    "    if (single):\n",
    "        q_format = '&outputFormat=csvSingle'\n",
    "    else:\n",
    "        q_format = '&outputFormat=csv'\n",
    "    q_year   = '&year%5B%5D=' + str(year)\n",
    "    \n",
    "    # select locations (required)\n",
    "    q_loc = ''\n",
    "    for location in location_list:\n",
    "        q_loc  += '&loc%5B%5D=' + location\n",
    "        #'&loc%5B%5D=RRH&loc%5B%5D=TDA&loc%5B%5D=WAN&loc%5B%5D=WEL'\n",
    "    \n",
    "    # select the fish species to retrieve (required)\n",
    "    q_fish = ''\n",
    "    for species in species_list:\n",
    "        q_fish += '&ftype%5B%5D=' + species_dict[species]\n",
    "    \n",
    "    # 10 year averages\n",
    "    q_10yr  = '&data%5B%5D='\n",
    "    \n",
    "    # river conditions (optional)\n",
    "    if (len(riverdata_list)==0):\n",
    "        q_river = '&data%5B%5D='\n",
    "    else:\n",
    "        q_river = ''\n",
    "        for rd in riverdata_list:\n",
    "            q_river += '&data%5B%5D=' + river_data_dict[rd]\n",
    "    \n",
    "    # optional to set for less than a year; this function defaults to the full year\n",
    "    q_tail  = '&data%5B%5D=&data%5B%5D=&startdate=1%2F1&enddate=12%2F31&avgyear=0&sumAttribute=none' + \\\n",
    "                '&consolidate=1&zeros=1&grid=1&y1min=0&y1max=&y2min=&y2max=&size=medium'\n",
    "\n",
    "    \n",
    "    final_url = q_base + q_format + q_year + q_loc + q_fish + q_10yr + q_river + q_tail\n",
    "    return final_url"
   ]
  },
  {
   "cell_type": "code",
   "execution_count": 5,
   "metadata": {},
   "outputs": [],
   "source": [
    "def fetch_data(CSV_URL):\n",
    "    #https://stackoverflow.com/questions/35371043/use-python-requests-to-download-csv\n",
    "    #CSV_URL = get_sock\n",
    "\n",
    "    with requests.Session() as s:\n",
    "        download = s.get(CSV_URL)\n",
    "\n",
    "        decoded_content = download.content.decode('utf-8')\n",
    "\n",
    "        cr = csv.reader(decoded_content.splitlines(), delimiter=',')\n",
    "        my_list = list(cr)\n",
    "        #for row in my_list:\n",
    "            #print(row)\n",
    "    return my_list"
   ]
  },
  {
   "cell_type": "code",
   "execution_count": 6,
   "metadata": {},
   "outputs": [],
   "source": [
    "# Example .head() if 'csv' is requested\n",
    "#     mm/dd  2019:JDA:Sock (fish/day)  2019:BON:Sock (fish/day)\n",
    "# 0   1/1    0                         0\n",
    "# 0   1/2    0                         0 \n",
    "\n",
    "\n",
    "# Example .head() if 'csvSingle' is requested         (also known as 'tidy' data)\n",
    "#      year   mm-dd   location  parameter  unit       datatype         value\n",
    "# 0    2019   1-1     JDA       Chin       fish/day   Adult Passage    0\n",
    "# 1    2019   1-2     JDA       Chin       fish/day   Adult Passage    0"
   ]
  },
  {
   "cell_type": "code",
   "execution_count": 7,
   "metadata": {},
   "outputs": [],
   "source": [
    "def construct_df(data_as_list, single=True):\n",
    "    '''Converts the downloaded data to a pandas DataFrame and reformats the columns.'''\n",
    "    # construct the initial dataframe\n",
    "    df = pd.DataFrame(data_as_list[2:],columns=data_as_list[1])\n",
    "    \n",
    "    if (single):\n",
    "        # construct a date column\n",
    "        df['Date'] = df['year'] + '-' + df['mm-dd']  \n",
    "    else:\n",
    "        # extract year from column location name ' 2019:MCN:Sock (fish/day)' to '2019'\n",
    "        year = df.columns[1].split(':')[0].strip()\n",
    "\n",
    "        # convert column location names from ' 2019:MCN:Sock (fish/day)' to 'MCN'\n",
    "        locations = [df.columns[i].split(':')[1]  for i in range(1,len(df.columns))]\n",
    "\n",
    "        # replace the 'mm/dd' column name with 'Date', then convert '1/1' etc. to '1/1/YYYY'\n",
    "        df.columns = ['Date'] + locations    \n",
    "        df['Date'] = df['Date'] + '/' + year\n",
    "    \n",
    "    # remove the last 7 rows which contain download timestamp and similar info\n",
    "    df = df[:-7]\n",
    "    \n",
    "    return df"
   ]
  },
  {
   "cell_type": "markdown",
   "metadata": {},
   "source": [
    "## Downloading data"
   ]
  },
  {
   "cell_type": "markdown",
   "metadata": {},
   "source": [
    "**Example - single species**"
   ]
  },
  {
   "cell_type": "code",
   "execution_count": 8,
   "metadata": {},
   "outputs": [],
   "source": [
    "# # Example: Single species, single year, all 9 Columbia locations, WIDE format\n",
    "\n",
    "# my_url = construct_query(2019,['sockeye'],location_list,[],single=False)\n",
    "# data_as_list = fetch_data(my_url)\n",
    "# df_sockeye_2019 = construct_df(data_as_list,single=False) # works with non-tidy data\n",
    "\n",
    "# df_sockeye_2019.head()"
   ]
  },
  {
   "cell_type": "code",
   "execution_count": 9,
   "metadata": {},
   "outputs": [],
   "source": [
    "# df_sockeye_2019.tail()"
   ]
  },
  {
   "cell_type": "markdown",
   "metadata": {},
   "source": [
    "**Example - several species**"
   ]
  },
  {
   "cell_type": "code",
   "execution_count": 10,
   "metadata": {},
   "outputs": [],
   "source": [
    "# # Example: 5 species, single year, all 9 Columbia locations, TIDY format \n",
    "\n",
    "# my_url = construct_query(2019,['sockeye','coho','chinook','chum','pink'],location_list,[],single=True)\n",
    "\n",
    "# data_as_list = fetch_data(my_url)\n",
    "# df = construct_df(data_as_list,single=True)\n",
    "\n",
    "# df.head()"
   ]
  },
  {
   "cell_type": "code",
   "execution_count": 11,
   "metadata": {},
   "outputs": [],
   "source": [
    "# df['parameter'].value_counts()"
   ]
  },
  {
   "cell_type": "markdown",
   "metadata": {},
   "source": [
    "**Project Data - Fish Counts**"
   ]
  },
  {
   "cell_type": "code",
   "execution_count": 12,
   "metadata": {},
   "outputs": [
    {
     "data": {
      "text/plain": [
       "array([1999, 2000, 2001, 2002, 2003, 2004, 2005, 2006, 2007, 2008, 2009,\n",
       "       2010, 2011, 2012, 2013, 2014, 2015, 2016, 2017, 2018, 2019, 2020])"
      ]
     },
     "execution_count": 12,
     "metadata": {},
     "output_type": "execute_result"
    }
   ],
   "source": [
    "years_of_interest = np.arange(1999,2021,1)\n",
    "years_of_interest"
   ]
  },
  {
   "cell_type": "code",
   "execution_count": 13,
   "metadata": {},
   "outputs": [],
   "source": [
    "species_of_interest = ['sockeye','coho','chinook','chum','pink']"
   ]
  },
  {
   "cell_type": "code",
   "execution_count": 14,
   "metadata": {},
   "outputs": [],
   "source": [
    "df = pd.DataFrame(columns = ['year', 'mm-dd', 'location', 'parameter', 'unit', 'datatype', 'value',\n",
    "       'Date']) # giant df accummulator"
   ]
  },
  {
   "cell_type": "code",
   "execution_count": 15,
   "metadata": {},
   "outputs": [
    {
     "data": {
      "text/plain": [
       "(0, 8)"
      ]
     },
     "execution_count": 15,
     "metadata": {},
     "output_type": "execute_result"
    }
   ],
   "source": [
    "df.shape"
   ]
  },
  {
   "cell_type": "code",
   "execution_count": 16,
   "metadata": {},
   "outputs": [],
   "source": [
    "# fetch data for each year\n",
    "for year in years_of_interest:\n",
    "    my_url = construct_query(year,species_of_interest,location_list,[],single=True)\n",
    "    data_as_list = fetch_data(my_url)\n",
    "    df = df.append(construct_df(data_as_list,single=True),ignore_index=True)"
   ]
  },
  {
   "cell_type": "code",
   "execution_count": 17,
   "metadata": {},
   "outputs": [],
   "source": [
    "# Save fish data to file\n",
    "df.to_csv('../data/DART_csv_files/salmon5_20yearsv2.csv',index=False)"
   ]
  },
  {
   "cell_type": "code",
   "execution_count": 18,
   "metadata": {},
   "outputs": [
    {
     "data": {
      "text/plain": [
       "(292585, 8)"
      ]
     },
     "execution_count": 18,
     "metadata": {},
     "output_type": "execute_result"
    }
   ],
   "source": [
    "df.shape # (292585, 8)"
   ]
  },
  {
   "cell_type": "markdown",
   "metadata": {},
   "source": [
    "**Project Data - Water Conditions**\n",
    "\n",
    "Water conditions can only be retrieved in addtion to at least one fish; the fish section of the data will then be dropped.\n",
    "\n",
    "DART has a year-location-parameter limit, so data must be retrieved in smaller pieces."
   ]
  },
  {
   "cell_type": "code",
   "execution_count": 19,
   "metadata": {},
   "outputs": [],
   "source": [
    "get_water = 'http://www.cbr.washington.edu/dart/cs/php/rpt/mg.php?sc=1&mgconfig=adult&outputFormat=csvSingle&year%5B%5D=2020&year%5B%5D=2019&year%5B%5D=2018&year%5B%5D=2017&year%5B%5D=2016&year%5B%5D=2015&year%5B%5D=2014&year%5B%5D=2013&year%5B%5D=2012&year%5B%5D=2011&year%5B%5D=2010&year%5B%5D=2009&year%5B%5D=2008&year%5B%5D=2007&year%5B%5D=2006&year%5B%5D=2005&year%5B%5D=2004&year%5B%5D=2003&year%5B%5D=2002&year%5B%5D=2001&year%5B%5D=2000&year%5B%5D=1999&loc%5B%5D=RRH&ftype%5B%5D=fc&data%5B%5D=&data%5B%5D=Dissolved+Gas&data%5B%5D=Dissolved+Gas+Percent&data%5B%5D=Temp+%28Scroll+Case%29&data%5B%5D=Temp+%28WQM%29&data%5B%5D=Turbidity&startdate=1%2F1&enddate=12%2F31&avgyear=0&sumAttribute=none&consolidate=1&zeros=1&grid=1&y1min=0&y1max=&y2min=&y2max=&size=medium'"
   ]
  },
  {
   "cell_type": "code",
   "execution_count": 20,
   "metadata": {},
   "outputs": [],
   "source": [
    "data_as_list = fetch_data(get_water)"
   ]
  },
  {
   "cell_type": "code",
   "execution_count": 21,
   "metadata": {},
   "outputs": [
    {
     "data": {
      "text/plain": [
       "[[],\n",
       " ['year', 'mm-dd', 'location', 'parameter', 'unit', 'datatype', 'value'],\n",
       " ['2020', '1-1', 'RRH', 'Chin', 'fish/day', 'Adult Passage', 'NA'],\n",
       " ['2020', '1-2', 'RRH', 'Chin', 'fish/day', 'Adult Passage', 'NA'],\n",
       " ['2020', '1-3', 'RRH', 'Chin', 'fish/day', 'Adult Passage', 'NA']]"
      ]
     },
     "execution_count": 21,
     "metadata": {},
     "output_type": "execute_result"
    }
   ],
   "source": [
    "data_as_list[:5]"
   ]
  },
  {
   "cell_type": "code",
   "execution_count": 22,
   "metadata": {},
   "outputs": [],
   "source": [
    "df_water = construct_df(data_as_list,single=True)"
   ]
  },
  {
   "cell_type": "code",
   "execution_count": 23,
   "metadata": {},
   "outputs": [
    {
     "data": {
      "text/plain": [
       "(45384, 8)"
      ]
     },
     "execution_count": 23,
     "metadata": {},
     "output_type": "execute_result"
    }
   ],
   "source": [
    "df_water.shape"
   ]
  },
  {
   "cell_type": "code",
   "execution_count": 24,
   "metadata": {},
   "outputs": [
    {
     "data": {
      "text/plain": [
       "tempc      8052\n",
       "gaspct     8052\n",
       "Chin       8052\n",
       "disgas     8052\n",
       "turb       7686\n",
       "tempscr    5490\n",
       "Name: parameter, dtype: int64"
      ]
     },
     "execution_count": 24,
     "metadata": {},
     "output_type": "execute_result"
    }
   ],
   "source": [
    "df_water['parameter'].value_counts()"
   ]
  },
  {
   "cell_type": "code",
   "execution_count": 25,
   "metadata": {},
   "outputs": [],
   "source": [
    "# drop the fish\n",
    "df_water = df_water[df_water['parameter']!='Chin']"
   ]
  },
  {
   "cell_type": "code",
   "execution_count": 26,
   "metadata": {},
   "outputs": [
    {
     "data": {
      "text/plain": [
       "(37332, 8)"
      ]
     },
     "execution_count": 26,
     "metadata": {},
     "output_type": "execute_result"
    }
   ],
   "source": [
    "df_water.shape"
   ]
  },
  {
   "cell_type": "code",
   "execution_count": 27,
   "metadata": {},
   "outputs": [],
   "source": [
    "river_data_list = ['Barometric Pressure',\n",
    "    'Dissolved Gas',\n",
    "    'Dissolved Gas Percent',\n",
    "    'Elevation',    \n",
    "    'Inflow',\n",
    "    'Outflow',\n",
    "    'Spill',\n",
    "    'Spill Percent', \n",
    "    'Temperature (Scroll Case)',\n",
    "    'Temperature (WQM)',\n",
    "    'Turbidity']"
   ]
  },
  {
   "cell_type": "code",
   "execution_count": 28,
   "metadata": {},
   "outputs": [],
   "source": [
    "df_water = pd.DataFrame(columns = ['year', 'mm-dd', 'location', 'parameter', 'unit', 'datatype', 'value',\n",
    "       'Date']) # giant df accummulator"
   ]
  },
  {
   "cell_type": "code",
   "execution_count": 29,
   "metadata": {},
   "outputs": [
    {
     "data": {
      "text/plain": [
       "['BON', 'JDA', 'MCN', 'PRD', 'RIS', 'RRH', 'TDA', 'WAN', 'WEL']"
      ]
     },
     "execution_count": 29,
     "metadata": {},
     "output_type": "execute_result"
    }
   ],
   "source": [
    "location_list # WAN doesn't start until 2006!"
   ]
  },
  {
   "cell_type": "code",
   "execution_count": 32,
   "metadata": {
    "scrolled": true
   },
   "outputs": [
    {
     "name": "stdout",
     "output_type": "stream",
     "text": [
      "Completed: 1999 BON\n",
      "Completed: 1999 JDA\n",
      "Completed: 1999 MCN\n",
      "Completed: 1999 PRD\n",
      "Completed: 1999 RIS\n",
      "Completed: 1999 RRH\n",
      "Completed: 1999 TDA\n",
      "Skipping WAN prior to 2006\n",
      "Completed: 2000 BON\n",
      "Completed: 2000 JDA\n",
      "Completed: 2000 MCN\n",
      "Completed: 2000 PRD\n",
      "Completed: 2000 RIS\n",
      "Completed: 2000 RRH\n",
      "Completed: 2000 TDA\n",
      "Skipping WAN prior to 2006\n",
      "Completed: 2001 BON\n",
      "Completed: 2001 JDA\n",
      "Completed: 2001 MCN\n",
      "Completed: 2001 PRD\n",
      "Completed: 2001 RIS\n",
      "Completed: 2001 RRH\n",
      "Completed: 2001 TDA\n",
      "Skipping WAN prior to 2006\n",
      "Completed: 2002 BON\n",
      "Completed: 2002 JDA\n",
      "Completed: 2002 MCN\n",
      "Completed: 2002 PRD\n",
      "Completed: 2002 RIS\n",
      "Completed: 2002 RRH\n",
      "Completed: 2002 TDA\n",
      "Skipping WAN prior to 2006\n",
      "Completed: 2003 BON\n",
      "Completed: 2003 JDA\n",
      "Completed: 2003 MCN\n",
      "Completed: 2003 PRD\n",
      "Completed: 2003 RIS\n",
      "Completed: 2003 RRH\n",
      "Completed: 2003 TDA\n",
      "Skipping WAN prior to 2006\n",
      "Completed: 2004 BON\n",
      "Completed: 2004 JDA\n",
      "Completed: 2004 MCN\n",
      "Completed: 2004 PRD\n",
      "Completed: 2004 RIS\n",
      "Completed: 2004 RRH\n",
      "Completed: 2004 TDA\n",
      "Skipping WAN prior to 2006\n",
      "Completed: 2005 BON\n",
      "Completed: 2005 JDA\n",
      "Completed: 2005 MCN\n",
      "Completed: 2005 PRD\n",
      "Completed: 2005 RIS\n",
      "Completed: 2005 RRH\n",
      "Completed: 2005 TDA\n",
      "Skipping WAN prior to 2006\n",
      "Completed: 2006 BON\n",
      "Completed: 2006 JDA\n",
      "Completed: 2006 MCN\n",
      "Completed: 2006 PRD\n",
      "Completed: 2006 RIS\n",
      "Completed: 2006 RRH\n",
      "Completed: 2006 TDA\n",
      "Completed: 2006 WAN\n",
      "Completed: 2006 WEL\n",
      "Completed: 2007 BON\n",
      "Completed: 2007 JDA\n",
      "Completed: 2007 MCN\n",
      "Completed: 2007 PRD\n",
      "Completed: 2007 RIS\n",
      "Completed: 2007 RRH\n",
      "Completed: 2007 TDA\n",
      "Completed: 2007 WAN\n",
      "Completed: 2007 WEL\n",
      "Completed: 2008 BON\n",
      "Completed: 2008 JDA\n",
      "Completed: 2008 MCN\n",
      "Completed: 2008 PRD\n",
      "Completed: 2008 RIS\n",
      "Completed: 2008 RRH\n",
      "Completed: 2008 TDA\n",
      "Completed: 2008 WAN\n",
      "Completed: 2008 WEL\n",
      "Completed: 2009 BON\n",
      "Completed: 2009 JDA\n",
      "Completed: 2009 MCN\n",
      "Completed: 2009 PRD\n",
      "Completed: 2009 RIS\n",
      "Completed: 2009 RRH\n",
      "Completed: 2009 TDA\n",
      "Completed: 2009 WAN\n",
      "Completed: 2009 WEL\n",
      "Completed: 2010 BON\n",
      "Completed: 2010 JDA\n",
      "Completed: 2010 MCN\n",
      "Completed: 2010 PRD\n",
      "Completed: 2010 RIS\n",
      "Completed: 2010 RRH\n",
      "Completed: 2010 TDA\n",
      "Completed: 2010 WAN\n",
      "Completed: 2010 WEL\n",
      "Completed: 2011 BON\n",
      "Completed: 2011 JDA\n",
      "Completed: 2011 MCN\n",
      "Completed: 2011 PRD\n",
      "Completed: 2011 RIS\n",
      "Completed: 2011 RRH\n",
      "Completed: 2011 TDA\n",
      "Completed: 2011 WAN\n",
      "Completed: 2011 WEL\n",
      "Completed: 2012 BON\n",
      "Completed: 2012 JDA\n",
      "Completed: 2012 MCN\n",
      "Completed: 2012 PRD\n",
      "Completed: 2012 RIS\n",
      "Completed: 2012 RRH\n",
      "Completed: 2012 TDA\n",
      "Completed: 2012 WAN\n",
      "Completed: 2012 WEL\n",
      "Completed: 2013 BON\n",
      "Completed: 2013 JDA\n",
      "Completed: 2013 MCN\n",
      "Completed: 2013 PRD\n",
      "Completed: 2013 RIS\n",
      "Completed: 2013 RRH\n",
      "Completed: 2013 TDA\n",
      "Completed: 2013 WAN\n",
      "Completed: 2013 WEL\n",
      "Completed: 2014 BON\n",
      "Completed: 2014 JDA\n",
      "Completed: 2014 MCN\n",
      "Completed: 2014 PRD\n",
      "Completed: 2014 RIS\n",
      "Completed: 2014 RRH\n",
      "Completed: 2014 TDA\n",
      "Completed: 2014 WAN\n",
      "Completed: 2014 WEL\n",
      "Completed: 2015 BON\n",
      "Completed: 2015 JDA\n",
      "Completed: 2015 MCN\n",
      "Completed: 2015 PRD\n",
      "Completed: 2015 RIS\n",
      "Completed: 2015 RRH\n",
      "Completed: 2015 TDA\n",
      "Completed: 2015 WAN\n",
      "Completed: 2015 WEL\n",
      "Completed: 2016 BON\n",
      "Completed: 2016 JDA\n",
      "Completed: 2016 MCN\n",
      "Completed: 2016 PRD\n",
      "Completed: 2016 RIS\n",
      "Completed: 2016 RRH\n",
      "Completed: 2016 TDA\n",
      "Completed: 2016 WAN\n",
      "Completed: 2016 WEL\n",
      "Completed: 2017 BON\n",
      "Completed: 2017 JDA\n",
      "Completed: 2017 MCN\n",
      "Completed: 2017 PRD\n",
      "Completed: 2017 RIS\n",
      "Completed: 2017 RRH\n",
      "Completed: 2017 TDA\n",
      "Completed: 2017 WAN\n",
      "Completed: 2017 WEL\n",
      "Completed: 2018 BON\n",
      "Completed: 2018 JDA\n",
      "Completed: 2018 MCN\n",
      "Completed: 2018 PRD\n",
      "Completed: 2018 RIS\n",
      "Completed: 2018 RRH\n",
      "Completed: 2018 TDA\n",
      "Completed: 2018 WAN\n",
      "Completed: 2018 WEL\n",
      "Completed: 2019 BON\n",
      "Completed: 2019 JDA\n",
      "Completed: 2019 MCN\n",
      "Completed: 2019 PRD\n",
      "Completed: 2019 RIS\n",
      "Completed: 2019 RRH\n",
      "Completed: 2019 TDA\n",
      "Completed: 2019 WAN\n",
      "Completed: 2019 WEL\n",
      "Completed: 2020 BON\n",
      "Completed: 2020 JDA\n",
      "Completed: 2020 MCN\n",
      "Completed: 2020 PRD\n",
      "Completed: 2020 RIS\n",
      "Completed: 2020 RRH\n",
      "Completed: 2020 TDA\n",
      "Completed: 2020 WAN\n",
      "Completed: 2020 WEL\n"
     ]
    }
   ],
   "source": [
    "# fetch data for each year\n",
    "for year in years_of_interest:\n",
    "    for location in location_list:\n",
    "        # Skip WAN until 2006\n",
    "        if ((year < 2006) and (location == 'WAN')):\n",
    "            print(\"Skipping WAN prior to 2006\")\n",
    "            break\n",
    "        my_url = construct_query(year,['chinook'],[location],river_data_list,single=True)\n",
    "        data_as_list = fetch_data(my_url)\n",
    "        df_water = df_water.append(construct_df(data_as_list,single=True),ignore_index=True)\n",
    "        print(f\"Completed: {year} {location}\")"
   ]
  },
  {
   "cell_type": "code",
   "execution_count": 33,
   "metadata": {},
   "outputs": [
    {
     "data": {
      "text/html": [
       "<div>\n",
       "<style scoped>\n",
       "    .dataframe tbody tr th:only-of-type {\n",
       "        vertical-align: middle;\n",
       "    }\n",
       "\n",
       "    .dataframe tbody tr th {\n",
       "        vertical-align: top;\n",
       "    }\n",
       "\n",
       "    .dataframe thead th {\n",
       "        text-align: right;\n",
       "    }\n",
       "</style>\n",
       "<table border=\"1\" class=\"dataframe\">\n",
       "  <thead>\n",
       "    <tr style=\"text-align: right;\">\n",
       "      <th></th>\n",
       "      <th>year</th>\n",
       "      <th>mm-dd</th>\n",
       "      <th>location</th>\n",
       "      <th>parameter</th>\n",
       "      <th>unit</th>\n",
       "      <th>datatype</th>\n",
       "      <th>value</th>\n",
       "      <th>Date</th>\n",
       "    </tr>\n",
       "  </thead>\n",
       "  <tbody>\n",
       "    <tr>\n",
       "      <th>0</th>\n",
       "      <td>1999</td>\n",
       "      <td>1-1</td>\n",
       "      <td>BON</td>\n",
       "      <td>Chin</td>\n",
       "      <td>fish/day</td>\n",
       "      <td>Adult Passage</td>\n",
       "      <td>NA</td>\n",
       "      <td>1999-1-1</td>\n",
       "    </tr>\n",
       "    <tr>\n",
       "      <th>1</th>\n",
       "      <td>1999</td>\n",
       "      <td>1-2</td>\n",
       "      <td>BON</td>\n",
       "      <td>Chin</td>\n",
       "      <td>fish/day</td>\n",
       "      <td>Adult Passage</td>\n",
       "      <td>NA</td>\n",
       "      <td>1999-1-2</td>\n",
       "    </tr>\n",
       "  </tbody>\n",
       "</table>\n",
       "</div>"
      ],
      "text/plain": [
       "   year mm-dd location parameter      unit       datatype value      Date\n",
       "0  1999   1-1      BON      Chin  fish/day  Adult Passage    NA  1999-1-1\n",
       "1  1999   1-2      BON      Chin  fish/day  Adult Passage    NA  1999-1-2"
      ]
     },
     "execution_count": 33,
     "metadata": {},
     "output_type": "execute_result"
    }
   ],
   "source": [
    "df_water.head(2)"
   ]
  },
  {
   "cell_type": "code",
   "execution_count": 34,
   "metadata": {},
   "outputs": [
    {
     "data": {
      "text/plain": [
       "(734560, 8)"
      ]
     },
     "execution_count": 34,
     "metadata": {},
     "output_type": "execute_result"
    }
   ],
   "source": [
    "df_water.shape"
   ]
  },
  {
   "cell_type": "code",
   "execution_count": 35,
   "metadata": {},
   "outputs": [],
   "source": [
    "# drop the fish\n",
    "df_water = df_water[df_water['parameter']!='Chin']"
   ]
  },
  {
   "cell_type": "code",
   "execution_count": 36,
   "metadata": {},
   "outputs": [
    {
     "data": {
      "text/plain": [
       "(667350, 8)"
      ]
     },
     "execution_count": 36,
     "metadata": {},
     "output_type": "execute_result"
    }
   ],
   "source": [
    "df_water.shape"
   ]
  },
  {
   "cell_type": "code",
   "execution_count": 37,
   "metadata": {},
   "outputs": [],
   "source": [
    "# Save fish data to file\n",
    "df_water.to_csv('../data/DART_csv_files/riverdata_20years.csv',index=False)"
   ]
  },
  {
   "cell_type": "code",
   "execution_count": null,
   "metadata": {},
   "outputs": [],
   "source": []
  }
 ],
 "metadata": {
  "kernelspec": {
   "display_name": "Python 3",
   "language": "python",
   "name": "python3"
  },
  "language_info": {
   "codemirror_mode": {
    "name": "ipython",
    "version": 3
   },
   "file_extension": ".py",
   "mimetype": "text/x-python",
   "name": "python",
   "nbconvert_exporter": "python",
   "pygments_lexer": "ipython3",
   "version": "3.7.7"
  }
 },
 "nbformat": 4,
 "nbformat_minor": 4
}
